{
 "cells": [
  {
   "cell_type": "code",
   "execution_count": 1,
   "id": "c58ff183",
   "metadata": {},
   "outputs": [],
   "source": [
    "import tensorflow as tf\n",
    "import numpy as np\n",
    "from sklearn.decomposition import PCA"
   ]
  },
  {
   "cell_type": "code",
   "execution_count": 2,
   "id": "08613d52",
   "metadata": {},
   "outputs": [],
   "source": [
    "mnist = tf.keras.datasets.mnist\n",
    "(x_train,y_train) , (x_test,y_test) = mnist.load_data()"
   ]
  },
  {
   "cell_type": "code",
   "execution_count": 3,
   "id": "fb2bba5b",
   "metadata": {},
   "outputs": [],
   "source": [
    "def normalize(x, axis=-1, order=2):\n",
    "    \"\"\"Normalizes a Numpy array.\n",
    "    Normalization is the process of scaling individual samples to have unit norm\n",
    "    Defauls is l2 vector norm on axis 1\n",
    "\n",
    "    Args:\n",
    "        x: Numpy array to normalize.\n",
    "        axis: axis along which to normalize.\n",
    "        order: Normalization order (e.g. `order=2` for L2 norm).\n",
    "\n",
    "    Returns:\n",
    "        A normalized copy of the array.\n",
    "    \"\"\"\n",
    "    # Get the l2 unit norm\n",
    "    l2 = np.atleast_1d(np.linalg.norm(x, order, axis))\n",
    "    # where x ==, change to 1\n",
    "    l2[l2 == 0] = 1\n",
    "    return x / np.expand_dims(l2, axis)\n",
    "\n",
    "x_train = normalize(x_train, axis=1)\n",
    "x_test = normalize(x_test, axis=1)"
   ]
  },
  {
   "cell_type": "code",
   "execution_count": 18,
   "id": "645c1a10",
   "metadata": {
    "scrolled": true
   },
   "outputs": [
    {
     "data": {
      "text/plain": [
       "array([[0., 0., 0., ..., 0., 0., 0.],\n",
       "       [0., 0., 0., ..., 1., 1., 0.],\n",
       "       [0., 0., 0., ..., 0., 0., 0.],\n",
       "       ...,\n",
       "       [0., 0., 0., ..., 0., 0., 0.],\n",
       "       [0., 0., 0., ..., 1., 1., 0.],\n",
       "       [0., 0., 0., ..., 0., 0., 0.]])"
      ]
     },
     "execution_count": 18,
     "metadata": {},
     "output_type": "execute_result"
    }
   ],
   "source": [
    "# within each sample of 10000\n",
    "# each row (axis=1) has been scaled to have a l2 vector norm of 1\n",
    "# I have no idea what negative axes mean\n",
    "np.linalg.norm(x_test, ord=2, axis=1)"
   ]
  },
  {
   "cell_type": "code",
   "execution_count": 31,
   "id": "b41564b1",
   "metadata": {},
   "outputs": [
    {
     "data": {
      "text/plain": [
       "array([0., 0., 0., 0., 0., 0., 0., 0., 1., 1., 1., 1., 1., 1., 1., 1., 1.,\n",
       "       1., 1., 1., 1., 1., 0., 0., 0., 0., 0., 0.])"
      ]
     },
     "execution_count": 31,
     "metadata": {},
     "output_type": "execute_result"
    }
   ],
   "source": [
    "np.linalg.norm(x_test, ord=2, axis=1)[123]"
   ]
  },
  {
   "cell_type": "code",
   "execution_count": null,
   "id": "c40b7e7b",
   "metadata": {},
   "outputs": [],
   "source": []
  }
 ],
 "metadata": {
  "kernelspec": {
   "display_name": "Python 3 (ipykernel)",
   "language": "python",
   "name": "python3"
  },
  "language_info": {
   "codemirror_mode": {
    "name": "ipython",
    "version": 3
   },
   "file_extension": ".py",
   "mimetype": "text/x-python",
   "name": "python",
   "nbconvert_exporter": "python",
   "pygments_lexer": "ipython3",
   "version": "3.10.9"
  }
 },
 "nbformat": 4,
 "nbformat_minor": 5
}
