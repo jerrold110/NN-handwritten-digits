{
 "cells": [
  {
   "cell_type": "code",
   "execution_count": 1,
   "id": "e53c695b",
   "metadata": {},
   "outputs": [],
   "source": [
    "import tensorflow as tf\n",
    "import numpy as np\n",
    "import matplotlib.pyplot as plt"
   ]
  },
  {
   "cell_type": "code",
   "execution_count": 2,
   "id": "cd464e08",
   "metadata": {},
   "outputs": [],
   "source": [
    "mnist = tf.keras.datasets.mnist\n",
    "(x_train,y_train) , (x_test,y_test) = mnist.load_data()\n",
    " \n",
    "x_train = tf.keras.utils.normalize(x_train, axis=1)\n",
    "x_test = tf.keras.utils.normalize(x_test, axis=1)"
   ]
  },
  {
   "cell_type": "code",
   "execution_count": 3,
   "id": "015b1d92",
   "metadata": {},
   "outputs": [
    {
     "data": {
      "text/plain": [
       "(60000, 28, 28)"
      ]
     },
     "execution_count": 3,
     "metadata": {},
     "output_type": "execute_result"
    }
   ],
   "source": [
    "x_train.shape"
   ]
  },
  {
   "cell_type": "code",
   "execution_count": 5,
   "id": "05f8c2b9",
   "metadata": {},
   "outputs": [
    {
     "data": {
      "text/plain": [
       "(60000,)"
      ]
     },
     "execution_count": 5,
     "metadata": {},
     "output_type": "execute_result"
    }
   ],
   "source": [
    "y_train.shape"
   ]
  },
  {
   "cell_type": "code",
   "execution_count": 8,
   "id": "e2d806b7",
   "metadata": {},
   "outputs": [
    {
     "data": {
      "text/plain": [
       "array([5, 0, 4, ..., 5, 6, 8], dtype=uint8)"
      ]
     },
     "execution_count": 8,
     "metadata": {},
     "output_type": "execute_result"
    }
   ],
   "source": [
    "y_train"
   ]
  },
  {
   "cell_type": "code",
   "execution_count": 38,
   "id": "08720a75",
   "metadata": {
    "scrolled": false
   },
   "outputs": [
    {
     "data": {
      "image/png": "[encoded data removed]",
      "text/plain": [
       "<Figure size 640x480 with 1 Axes>"
      ]
     },
     "metadata": {},
     "output_type": "display_data"
    }
   ],
   "source": [
    "def draw(n):\n",
    "    plt.imshow(n,cmap=plt.cm.binary)\n",
    "    plt.show()\n",
    "     \n",
    "draw(x_train[0])"
   ]
  },
  {
   "cell_type": "markdown",
   "id": "cfee16dc",
   "metadata": {},
   "source": [
    "## Mini-Batch Gradient Descent\n",
    "### Default batch_size = 32\n",
    "\n",
    "Popular sizes are 32, 64, 128"
   ]
  },
  {
   "cell_type": "code",
   "execution_count": 20,
   "id": "0e14b174",
   "metadata": {},
   "outputs": [],
   "source": [
    "np.random.seed(1)\n",
    "model = tf.keras.models.Sequential()\n",
    "# activation function not needed since values are scaled to 0<=x<=1\n",
    "model.add(tf.keras.layers.Flatten(input_shape=(28, 28)))\n",
    "\n",
    "# sigmoid and tanh were preferred in the past\n",
    "# these days, ReLU functions achieve better peformance\n",
    "model.add(tf.keras.layers.Dense(128, activation=tf.nn.relu))\n",
    "model.add(tf.keras.layers.Dense(128, activation=tf.nn.relu))\n",
    "# We tend to use sigmoid for binary and softmax for multiclass\n",
    "model.add(tf.keras.layers.Dense(10, activation=tf.nn.softmax))"
   ]
  },
  {
   "cell_type": "code",
   "execution_count": 21,
   "id": "70de3864",
   "metadata": {},
   "outputs": [
    {
     "name": "stdout",
     "output_type": "stream",
     "text": [
      "Epoch 1/3\n",
      "1875/1875 [==============================] - 10s 5ms/step - loss: 0.2622 - accuracy: 0.9249\n",
      "Epoch 2/3\n",
      "1875/1875 [==============================] - 9s 5ms/step - loss: 0.1069 - accuracy: 0.9665\n",
      "Epoch 3/3\n",
      "1875/1875 [==============================] - 9s 5ms/step - loss: 0.0730 - accuracy: 0.9768\n"
     ]
    },
    {
     "data": {
      "text/plain": [
       "<keras.callbacks.History at 0x254fb7b1bd0>"
      ]
     },
     "execution_count": 21,
     "metadata": {},
     "output_type": "execute_result"
    }
   ],
   "source": [
    "epochs=3\n",
    "model.compile(optimizer='adam',\n",
    "              loss='sparse_categorical_crossentropy',\n",
    "              metrics=['accuracy']\n",
    "              )\n",
    "model.fit(x_train, y_train, epochs=epochs)"
   ]
  },
  {
   "cell_type": "markdown",
   "id": "bc99b923",
   "metadata": {},
   "source": [
    "## Batch gradient descent \n",
    "### batch_size = 60000"
   ]
  },
  {
   "cell_type": "code",
   "execution_count": 22,
   "id": "cc3ef813",
   "metadata": {},
   "outputs": [],
   "source": [
    "np.random.seed(1)\n",
    "model = tf.keras.models.Sequential()\n",
    "# activation function not needed since values are 0<=x<=1\n",
    "model.add(tf.keras.layers.Flatten(input_shape=(28, 28)))\n",
    "\n",
    "# sigmoid and tanh were preferred in the past\n",
    "# these days, ReLU functions achieve better peformance\n",
    "model.add(tf.keras.layers.Dense(128, activation=tf.nn.relu))\n",
    "model.add(tf.keras.layers.Dense(128, activation=tf.nn.relu))\n",
    "# We tend to use sigmoid for binary and softmax for multiclass\n",
    "model.add(tf.keras.layers.Dense(10, activation=tf.nn.softmax))"
   ]
  },
  {
   "cell_type": "code",
   "execution_count": 23,
   "id": "01dbdaee",
   "metadata": {
    "scrolled": true
   },
   "outputs": [
    {
     "name": "stdout",
     "output_type": "stream",
     "text": [
      "Epoch 1/3\n",
      "1/1 [==============================] - 1s 1s/step - loss: 2.3205 - accuracy: 0.0844\n",
      "Epoch 2/3\n",
      "1/1 [==============================] - 0s 230ms/step - loss: 2.2695 - accuracy: 0.2006\n",
      "Epoch 3/3\n",
      "1/1 [==============================] - 0s 257ms/step - loss: 2.2212 - accuracy: 0.3350\n"
     ]
    },
    {
     "data": {
      "text/plain": [
       "<keras.callbacks.History at 0x254fc89be80>"
      ]
     },
     "execution_count": 23,
     "metadata": {},
     "output_type": "execute_result"
    }
   ],
   "source": [
    "epochs=3\n",
    "bs=60000\n",
    "\n",
    "model.compile(optimizer='adam',\n",
    "              loss='sparse_categorical_crossentropy',\n",
    "              metrics=['accuracy']\n",
    "              )\n",
    "model.fit(x_train, y_train, epochs=epochs, batch_size=bs)"
   ]
  },
  {
   "cell_type": "markdown",
   "id": "42d42cf1",
   "metadata": {},
   "source": [
    "## Stochastic Gradient Descent \n",
    "### Batch size = 1"
   ]
  },
  {
   "cell_type": "code",
   "execution_count": 25,
   "id": "5dad69c6",
   "metadata": {},
   "outputs": [],
   "source": [
    "np.random.seed(1)\n",
    "model = tf.keras.models.Sequential()\n",
    "# activation function not needed since values are 0<=x<=1\n",
    "model.add(tf.keras.layers.Flatten(input_shape=(28, 28)))\n",
    "\n",
    "# sigmoid and tanh were preferred in the past\n",
    "# these days, ReLU functions achieve better peformance\n",
    "model.add(tf.keras.layers.Dense(128, activation=tf.nn.relu))\n",
    "model.add(tf.keras.layers.Dense(128, activation=tf.nn.relu))\n",
    "# We tend to use sigmoid for binary and softmax for multiclass\n",
    "model.add(tf.keras.layers.Dense(10, activation=tf.nn.softmax))"
   ]
  },
  {
   "cell_type": "code",
   "execution_count": 26,
   "id": "1450091a",
   "metadata": {},
   "outputs": [
    {
     "name": "stdout",
     "output_type": "stream",
     "text": [
      "Epoch 1/3\n",
      "60000/60000 [==============================] - 217s 4ms/step - loss: 0.2218 - accuracy: 0.9335\n",
      "Epoch 2/3\n",
      "60000/60000 [==============================] - 215s 4ms/step - loss: 0.1392 - accuracy: 0.9643\n",
      "Epoch 3/3\n",
      "60000/60000 [==============================] - 210s 3ms/step - loss: 0.1221 - accuracy: 0.9689\n"
     ]
    },
    {
     "data": {
      "text/plain": [
       "<keras.callbacks.History at 0x254fd9a1a50>"
      ]
     },
     "execution_count": 26,
     "metadata": {},
     "output_type": "execute_result"
    }
   ],
   "source": [
    "epochs=3\n",
    "bs=1\n",
    "\n",
    "model.compile(optimizer='adam',\n",
    "              loss='sparse_categorical_crossentropy',\n",
    "              metrics=['accuracy']\n",
    "              )\n",
    "model.fit(x_train, y_train, epochs=epochs, batch_size=bs)"
   ]
  },
  {
   "cell_type": "markdown",
   "id": "3582daa0",
   "metadata": {},
   "source": [
    "### Saving this model"
   ]
  },
  {
   "cell_type": "code",
   "execution_count": 31,
   "id": "70dd89b7",
   "metadata": {},
   "outputs": [
    {
     "name": "stdout",
     "output_type": "stream",
     "text": [
      "313/313 [==============================] - 1s 2ms/step - loss: 0.1533 - accuracy: 0.9664\n",
      "loss ->  0.1533268392086029 \n",
      "acc->  0.9664000272750854\n"
     ]
    }
   ],
   "source": [
    "val_loss, val_acc = model.evaluate(x_test,y_test)\n",
    "print(\"loss -> \",val_loss,\"\\nacc-> \",val_acc)"
   ]
  },
  {
   "cell_type": "code",
   "execution_count": 34,
   "id": "ae18e97c",
   "metadata": {},
   "outputs": [],
   "source": [
    "model.save('models/model_SGD.h5')"
   ]
  },
  {
   "cell_type": "code",
   "execution_count": 35,
   "id": "a205175e",
   "metadata": {},
   "outputs": [
    {
     "name": "stdout",
     "output_type": "stream",
     "text": [
      "313/313 [==============================] - 1s 2ms/step\n",
      "label ->  1\n",
      "prediction ->  1\n"
     ]
    },
    {
     "data": {
      "image/png": "[encoded data removed]",
      "text/plain": [
       "<Figure size 640x480 with 1 Axes>"
      ]
     },
     "metadata": {},
     "output_type": "display_data"
    }
   ],
   "source": [
    "new_model = tf.keras.models.load_model('models/model_SGD.h5')\n",
    "\n",
    "predictions=new_model.predict([x_test])\n",
    " \n",
    "print('label -> ',y_test[2])\n",
    "print('prediction -> ',np.argmax(predictions[2]))\n",
    " \n",
    "draw(x_test[2])"
   ]
  }
 ],
 "metadata": {
  "kernelspec": {
   "display_name": "Python 3 (ipykernel)",
   "language": "python",
   "name": "python3"
  },
  "language_info": {
   "codemirror_mode": {
    "name": "ipython",
    "version": 3
   },
   "file_extension": ".py",
   "mimetype": "text/x-python",
   "name": "python",
   "nbconvert_exporter": "python",
   "pygments_lexer": "ipython3",
   "version": "3.10.9"
  }
 },
 "nbformat": 4,
 "nbformat_minor": 5
}
